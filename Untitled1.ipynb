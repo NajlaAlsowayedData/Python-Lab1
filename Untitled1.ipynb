{
 "cells": [
  {
   "cell_type": "code",
   "execution_count": 1,
   "id": "b3790c42",
   "metadata": {},
   "outputs": [],
   "source": [
    "FavoriteSeaseon = \"Winter\" \n"
   ]
  },
  {
   "cell_type": "code",
   "execution_count": 2,
   "id": "06a5830b",
   "metadata": {},
   "outputs": [],
   "source": [
    "x = 9\n",
    "y = 7.5"
   ]
  },
  {
   "cell_type": "code",
   "execution_count": 3,
   "id": "8f4a9151",
   "metadata": {},
   "outputs": [],
   "source": [
    "t = o = q = \"Grapes\"\n"
   ]
  },
  {
   "cell_type": "code",
   "execution_count": 4,
   "id": "8bf96500",
   "metadata": {},
   "outputs": [],
   "source": [
    "b , c , p = \"Apple\" , 9 , \"Poet Books\" \n"
   ]
  },
  {
   "cell_type": "code",
   "execution_count": null,
   "id": "40ad1cad",
   "metadata": {},
   "outputs": [],
   "source": []
  }
 ],
 "metadata": {
  "kernelspec": {
   "display_name": "Python 3 (ipykernel)",
   "language": "python",
   "name": "python3"
  },
  "language_info": {
   "codemirror_mode": {
    "name": "ipython",
    "version": 3
   },
   "file_extension": ".py",
   "mimetype": "text/x-python",
   "name": "python",
   "nbconvert_exporter": "python",
   "pygments_lexer": "ipython3",
   "version": "3.10.9"
  }
 },
 "nbformat": 4,
 "nbformat_minor": 5
}
